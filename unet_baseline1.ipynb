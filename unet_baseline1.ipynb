{
  "nbformat": 4,
  "nbformat_minor": 0,
  "metadata": {
    "colab": {
      "name": "unet_baseline1.ipynb",
      "provenance": [],
      "private_outputs": true,
      "collapsed_sections": [],
      "include_colab_link": true
    },
    "kernelspec": {
      "name": "python3",
      "display_name": "Python 3"
    },
    "accelerator": "GPU"
  },
  "cells": [
    {
      "cell_type": "markdown",
      "metadata": {
        "id": "view-in-github",
        "colab_type": "text"
      },
      "source": [
        "<a href=\"https://colab.research.google.com/github/dachanh/30-days-coding/blob/master/unet_baseline1.ipynb\" target=\"_parent\"><img src=\"https://colab.research.google.com/assets/colab-badge.svg\" alt=\"Open In Colab\"/></a>"
      ]
    },
    {
      "cell_type": "code",
      "metadata": {
        "id": "2x9GwXIHSL-0",
        "colab_type": "code",
        "colab": {}
      },
      "source": [
        "!pip3 install torch===1.3.1 torchvision===0.4.2 -f https://download.pytorch.org/whl/torch_stable.html\n",
        "!pip3 install easycolab"
      ],
      "execution_count": 0,
      "outputs": []
    },
    {
      "cell_type": "code",
      "metadata": {
        "id": "_lVdWSyvr5HJ",
        "colab_type": "code",
        "colab": {}
      },
      "source": [
        "!pip install opencv-python"
      ],
      "execution_count": 0,
      "outputs": []
    },
    {
      "cell_type": "code",
      "metadata": {
        "id": "UGKszmlz2eV1",
        "colab_type": "code",
        "colab": {}
      },
      "source": [
        "from google.colab import drive\n",
        "drive.mount('/content/gdrive')\n",
        "import easycolab as ec\n",
        "ec.mount()"
      ],
      "execution_count": 0,
      "outputs": []
    },
    {
      "cell_type": "code",
      "metadata": {
        "id": "EEkdyfpvXAVY",
        "colab_type": "code",
        "colab": {}
      },
      "source": [
        "import torch\n",
        "import torch.nn as nn\n",
        "from torch.utils.data import Dataset , DataLoader\n",
        "from torchvision import transforms, datasets, models \n",
        "from torchsummary import summary\n",
        "import torch.nn.functional as F\n",
        "from torch.utils.data import Dataset, DataLoader\n",
        "import cv2\n",
        "from os.path import splitext\n",
        "from os import listdir\n",
        "import numpy as np\n",
        "from torch import optim\n",
        "from tqdm import tqdm\n",
        "import os\n",
        "from glob import glob"
      ],
      "execution_count": 0,
      "outputs": []
    },
    {
      "cell_type": "markdown",
      "metadata": {
        "id": "vTkF3nBcYt24",
        "colab_type": "text"
      },
      "source": [
        "UNET"
      ]
    },
    {
      "cell_type": "code",
      "metadata": {
        "id": "rtx1_YmqRJR7",
        "colab_type": "code",
        "colab": {}
      },
      "source": [
        "class DoubleConv(nn.Module):\n",
        "  def __init__(self,in_channel,out_channel):\n",
        "    super().__init__()\n",
        "    self.double_conv = nn.Sequential(\n",
        "      nn.Conv2d(in_channel,out_channel,kernel_size=3,padding= 1),\n",
        "      nn.BatchNorm2d(out_channel),\n",
        "      nn.ReLU(inplace=True),\n",
        "      nn.Conv2d(out_channel,out_channel,kernel_size=3,padding= 1),\n",
        "      nn.BatchNorm2d(out_channel),\n",
        "      nn.ReLU(inplace=True))\n",
        "  def forward(self,x):\n",
        "    return self.double_conv(x)"
      ],
      "execution_count": 0,
      "outputs": []
    },
    {
      "cell_type": "code",
      "metadata": {
        "id": "_SP4-kz-3FJF",
        "colab_type": "code",
        "colab": {}
      },
      "source": [
        "class ContractLayer(nn.Module):\n",
        "  def __init__(self,in_channel,out_channel):\n",
        "    super().__init__()\n",
        "    self.downsampling =  nn.Sequential(\n",
        "        nn.MaxPool2d(2),\n",
        "        DoubleConv(in_channel,out_channel)\n",
        "    )\n",
        "  \n",
        "  def forward(self,x):\n",
        "    return self.downsampling(x)"
      ],
      "execution_count": 0,
      "outputs": []
    },
    {
      "cell_type": "code",
      "metadata": {
        "id": "I7gfVxgY4jKe",
        "colab_type": "code",
        "colab": {}
      },
      "source": [
        "class Expansivelayer(nn.Module):\n",
        "  def __init__(self,in_channel,out_channel,bilinear=True):\n",
        "    super().__init__()\n",
        "    if bilinear:\n",
        "      self.upsampling = nn.Upsample(scale_factor=2,mode='bilinear',align_corners=True)\n",
        "    else:\n",
        "      self.upsampling = nn.ConvTranspose2d(in_channel //2 , out_channel//2,kernel_size=2,stride=2)\n",
        "    self.conv = DoubleConv(in_channel,out_channel)\n",
        "  def forward(self,x1,x2):\n",
        "    x1 = self.upsampling(x1)\n",
        "    diffY = x2.size()[2] - x1.size()[2]\n",
        "    diffX = x2.size()[3] - x1.size()[3]\n",
        "\n",
        "    x1 = F.pad(x1,[diffX // 2 , diffX - diffX //2,diffY // 2, diffY - diffY // 2])\n",
        "\n",
        "    x = torch.cat([x2,x1] ,dim=1)\n",
        "    return self.conv(x)"
      ],
      "execution_count": 0,
      "outputs": []
    },
    {
      "cell_type": "code",
      "metadata": {
        "id": "RYfXBuNRqK0-",
        "colab_type": "code",
        "colab": {}
      },
      "source": [
        "class Finallayer(nn.Module):\n",
        "  def __init__(self,in_channel,out_channel):\n",
        "    super(Finallayer,self).__init__()\n",
        "    self.conv = nn.Conv2d(in_channel,out_channel,kernel_size= 1)\n",
        "  def forward(self,x):\n",
        "    return self.conv(x)"
      ],
      "execution_count": 0,
      "outputs": []
    },
    {
      "cell_type": "code",
      "metadata": {
        "id": "Oq23hDJ9vcY-",
        "colab_type": "code",
        "colab": {}
      },
      "source": [
        "class UNet(nn.Module):\n",
        "  def __init__(self,n_channels,n_classes,bilinear=True):\n",
        "    super(UNet,self).__init__()\n",
        "    self.n_classes = n_classes\n",
        "    self.n_channels = n_channels\n",
        "    self.bilinear = bilinear\n",
        "\n",
        "    self.input_layer =  DoubleConv(self.n_channels,64)\n",
        "    self.downLayer_1 = ContractLayer(64,128)\n",
        "    self.downLayer_2  = ContractLayer(128,256)\n",
        "    self.downLayer_3 = ContractLayer(256,512)\n",
        "    self.downLayer_4 = ContractLayer(512,512)\n",
        "\n",
        "    self.uplayer_1 = Expansivelayer(1024,256,bilinear)\n",
        "    self.uplayer_2 = Expansivelayer(512,128,bilinear)\n",
        "    self.uplayer_3 = Expansivelayer(256,64,bilinear)\n",
        "    self.uplayer_4 = Expansivelayer(128,64,bilinear)\n",
        "\n",
        "    self.output = Finallayer(64,self.n_classes)\n",
        "\n",
        "  def forward(self,x):\n",
        "    x1 = self.input_layer(x)\n",
        "    x2 = self.downLayer_1(x1)\n",
        "    x3 = self.downLayer_2(x2)\n",
        "    x4 = self.downLayer_3(x3)\n",
        "    x5 = self.downLayer_4(x4)\n",
        "    x = self.uplayer_1(x5,x4)\n",
        "    x = self.uplayer_2(x,x3)\n",
        "    x = self.uplayer_3(x,x2)\n",
        "    x = self.uplayer_4(x,x1)\n",
        "    the_last_layer = self.output(x)\n",
        "    return the_last_layer"
      ],
      "execution_count": 0,
      "outputs": []
    },
    {
      "cell_type": "code",
      "metadata": {
        "id": "l4YD8Ep6RoOh",
        "colab_type": "code",
        "colab": {}
      },
      "source": [
        "device = torch.device('cuda'if torch.cuda.is_available() else 'cpu')\n",
        "model =UNet(n_channels=3,n_classes=1)\n",
        "model = model.to(device)\n",
        "summary(model,input_size=(3,224,224))"
      ],
      "execution_count": 0,
      "outputs": []
    },
    {
      "cell_type": "markdown",
      "metadata": {
        "id": "HdObZKdcYy8z",
        "colab_type": "text"
      },
      "source": [
        "DATA LOADER"
      ]
    },
    {
      "cell_type": "code",
      "metadata": {
        "id": "OIIVUpfvq3LN",
        "colab_type": "code",
        "colab": {}
      },
      "source": [
        "class BasicDataset(Dataset):\n",
        "  def __init__(self,dir_image,dir_mask):\n",
        "    self.dir_image = dir_image\n",
        "    self.dir_mask = dir_mask \n",
        "    self.idx = [splitext(it)[0] for it in listdir(dir_image)]\n",
        "    print(self.idx)\n",
        "  def __len__(self):\n",
        "    return len(self.idx) \n",
        "  def preprocess(self,path):\n",
        "    image = cv2.imread(path)\n",
        "    image = cv2.resize(image,(224,224))\n",
        "    image_nd = np.array(image)\n",
        "    if len(image_nd.shape) == 2:\n",
        "      img_nd = np.expand_dim(image_nd,axis=2)\n",
        "    image_transpose = image_nd.transpose((2,0,1))\n",
        "    if image_transpose.max() > 1: \n",
        "      image_transpose = image_transpose/255\n",
        "    return image_transpose\n",
        "  def __getitem__(self,i):\n",
        "    index = self.idx[i]\n",
        "    mask_file = self.dir_mask + index + '.jpg'\n",
        "    image_file = self.dir_image + index + '.jpg'\n",
        "    img = self.preprocess(image_file)\n",
        "    mask = self.preprocess(mask_file)\n",
        "    return {'input': torch.from_numpy(img),'output':torch.from_numpy(mask)}"
      ],
      "execution_count": 0,
      "outputs": []
    },
    {
      "cell_type": "markdown",
      "metadata": {
        "id": "9GP5SyoZYlyj",
        "colab_type": "text"
      },
      "source": [
        "LOSS FUNCTION"
      ]
    },
    {
      "cell_type": "code",
      "metadata": {
        "id": "fOo7TYtmF_l1",
        "colab_type": "code",
        "colab": {}
      },
      "source": [
        "def soft_dice_loss(y_target,y_pred):\n",
        "  eps = 1e-4\n",
        "  y_pred = F.sigmoid(y_pred)\n",
        "  target = y_target.contiguous()\n",
        "  predict = y_pred.contiguous()\n",
        "  intersection = (target*predict).sum(dim=2).sum(dim=2)\n",
        "  union = predict.sum(dim=2).sum(dim=2)  + target.sum(dim=2).sum(dim=2)\n",
        "  loss =(1 - ((2* intersection.float() + eps)/(union.float()+eps))).mean()\n",
        "  return loss "
      ],
      "execution_count": 0,
      "outputs": []
    },
    {
      "cell_type": "code",
      "metadata": {
        "id": "3IbB1hjIic_3",
        "colab_type": "code",
        "colab": {}
      },
      "source": [
        "def dice_cofficient(y_target,y_pred):\n",
        "  eps = 1e-4\n",
        "  y_pred = F.sigmoid(y_pred)\n",
        "  target = y_target.contiguous()\n",
        "  predict = y_pred.contiguous()\n",
        "  intersection = (target*predict).sum(dim=2).sum(dim=2)\n",
        "  union = predict.sum(dim=2).sum(dim=2)  + target.sum(dim=2).sum(dim=2)\n",
        "  cofficident = ((2*intersection.float() + eps)/(union.float()+eps)).mean()\n",
        "  return cofficident"
      ],
      "execution_count": 0,
      "outputs": []
    },
    {
      "cell_type": "code",
      "metadata": {
        "id": "MlbaNM0eTUyU",
        "colab_type": "code",
        "colab": {}
      },
      "source": [
        "!ls cds/datasheet"
      ],
      "execution_count": 0,
      "outputs": []
    },
    {
      "cell_type": "markdown",
      "metadata": {
        "id": "bClSEvFimPiD",
        "colab_type": "text"
      },
      "source": [
        "CONFIG"
      ]
    },
    {
      "cell_type": "code",
      "metadata": {
        "id": "_gJTuI5FSpiB",
        "colab_type": "code",
        "colab": {}
      },
      "source": [
        "root = 'cds/datasheet'"
      ],
      "execution_count": 0,
      "outputs": []
    },
    {
      "cell_type": "code",
      "metadata": {
        "id": "obzE0dg6piia",
        "colab_type": "code",
        "colab": {}
      },
      "source": [
        "dirImage_train = root+ '/X_train/'\n",
        "dirMask_train = root  + '/y_train/'\n",
        "dirImage_test = root + '/X_test/'\n",
        "dirMask_test = root + '/y_test/'"
      ],
      "execution_count": 0,
      "outputs": []
    },
    {
      "cell_type": "code",
      "metadata": {
        "id": "el-3CvY1DTcZ",
        "colab_type": "code",
        "colab": {}
      },
      "source": [
        "batch_size = 4\n",
        "epochs = 50\n",
        "lr = 1e-3\n",
        "optimizer = optim.RMSprop(model.parameters(),lr=lr,weight_decay=1e-8)"
      ],
      "execution_count": 0,
      "outputs": []
    },
    {
      "cell_type": "code",
      "metadata": {
        "id": "Z8_odNOk6MFQ",
        "colab_type": "code",
        "colab": {}
      },
      "source": [
        "traindata = BasicDataset(dir_image=dirImage_train,dir_mask=dirMask_train)\n",
        "testdata = BasicDataset(dir_image=dirImage_test,dir_mask=dirMask_test)"
      ],
      "execution_count": 0,
      "outputs": []
    },
    {
      "cell_type": "code",
      "metadata": {
        "id": "HnvZqT4iTXIJ",
        "colab_type": "code",
        "colab": {}
      },
      "source": [
        "train_loader = DataLoader(traindata,batch_size=batch_size,shuffle=True,num_workers=8,pin_memory=True)\n",
        "test_loader = DataLoader(testdata,batch_size=batch_size,shuffle=True,num_workers=8,pin_memory=True)"
      ],
      "execution_count": 0,
      "outputs": []
    },
    {
      "cell_type": "code",
      "metadata": {
        "id": "J8j1c6XQQUrP",
        "colab_type": "code",
        "colab": {}
      },
      "source": [
        "device = torch.device('cuda' if torch.cuda.is_available() else 'cpu')\n",
        "best_loss = 1e32\n",
        "n_train =  int(len(traindata))\n",
        "# print(n_train)\n",
        "dir_checkpoint = root + '/checkpoint/'"
      ],
      "execution_count": 0,
      "outputs": []
    },
    {
      "cell_type": "code",
      "metadata": {
        "id": "ey9A7UhDoqQ2",
        "colab_type": "code",
        "colab": {}
      },
      "source": [
        "for epoch in range(epochs):\n",
        "  model.train()\n",
        "  epoch_loss = 0\n",
        "  epoch_cofficient = 0 \n",
        "  epoch_sample = 0\n",
        "  for batch in train_loader:\n",
        "    image = batch['input']\n",
        "    mask = batch['output']\n",
        "    image = image.to(device=device,dtype=torch.float32)\n",
        "    target = mask.to(device=device,dtype=torch.float32)\n",
        "    predict =  model(image)\n",
        "    loss = (soft_dice_loss(target,predict))\n",
        "    epoch_loss += loss.data.cpu().numpy()*target.size(0)\n",
        "    cofficient = (dice_cofficient(target,predict))\n",
        "    epoch_cofficient += cofficient.data.cpu().numpy()*target.size(0)\n",
        "    epoch_sample += image.size(0)\n",
        "    optimizer.zero_grad()\n",
        "    loss.backward() \n",
        "    optimizer.step()\n",
        "  print('epoch {}: cofficient {} , loss {}'.format(epoch+1,epoch_cofficient/epoch_sample,epoch_loss/epoch_sample))\n",
        "  epoch_loss = epoch_loss/epoch_sample\n",
        "  if best_loss > epoch_loss:\n",
        "    best_loss = epoch_loss\n",
        "    if not os.path.isdir(dir_checkpoint):\n",
        "      os.mkdir(dir_checkpoint)\n",
        "    torch.save(model.state_dict(),dir_checkpoint+'model.pth')"
      ],
      "execution_count": 0,
      "outputs": []
    },
    {
      "cell_type": "markdown",
      "metadata": {
        "id": "YDIXTi5U3ZXF",
        "colab_type": "text"
      },
      "source": [
        "Predict"
      ]
    },
    {
      "cell_type": "code",
      "metadata": {
        "id": "MvuCXmIx3ckb",
        "colab_type": "code",
        "colab": {}
      },
      "source": [
        "model =UNet(n_channels=3,n_classes=1)\n",
        "model = model.to(device)\n",
        "model.load_state_dict(torch.load(dir_checkpoint+'model.pth', map_location=device))\n",
        "model.eval()"
      ],
      "execution_count": 0,
      "outputs": []
    },
    {
      "cell_type": "code",
      "metadata": {
        "id": "VS28ESos40At",
        "colab_type": "code",
        "colab": {}
      },
      "source": [
        "!ls root"
      ],
      "execution_count": 0,
      "outputs": []
    },
    {
      "cell_type": "code",
      "metadata": {
        "id": "3oQt1y4OZCgV",
        "colab_type": "code",
        "colab": {}
      },
      "source": [
        "def preprocess(path):\n",
        "  image = cv2.imread(path)\n",
        "  image = cv2.resize(image,(224,224))\n",
        "  image_nd = np.array(image)\n",
        "  if len(image_nd.shape) == 2:\n",
        "    img_nd = np.expand_dim(image_nd,axis=2)\n",
        "  image_transpose = image_nd.transpose((2,0,1))\n",
        "  if image_transpose.max() > 1: \n",
        "    image_transpose = image_transpose/255\n",
        "  return image_transpose"
      ],
      "execution_count": 0,
      "outputs": []
    },
    {
      "cell_type": "code",
      "metadata": {
        "id": "w6NivwIjT7fT",
        "colab_type": "code",
        "colab": {}
      },
      "source": [
        "output_dir = root + '/output_image_valid/'\n",
        "for it in glob(dirImage_test+'*.jpg'):\n",
        "  img = preprocess(it)\n",
        "  img = torch.from_numpy(img)\n",
        "  img = img.unsqueeze(0)\n",
        "  img = img.to(device=device, dtype=torch.float32)\n",
        "  with torch.no_grad():\n",
        "    output = model(img)\n",
        "  probs = F.sigmoid(output)\n",
        "  probs = probs.squeeze(0)\n",
        "  tf = transforms.Compose(\n",
        "            [\n",
        "                transforms.ToPILImage(),\n",
        "                transforms.ToTensor()\n",
        "            ]\n",
        "        )\n",
        "  probs = tf(probs.cpu())\n",
        "  full_mask = probs.squeeze().cpu().numpy()\n",
        "  full_mask = np.array(full_mask*255,np.uint8)\n",
        "\n",
        "  if not os.path.isdir(output_dir):\n",
        "    os.mkdir(output_dir)\n",
        "  cv2.imwrite(output_dir+splitext(os.path.basename(it))[0]+'.jpg',full_mask)\n"
      ],
      "execution_count": 0,
      "outputs": []
    },
    {
      "cell_type": "code",
      "metadata": {
        "id": "H4dbyo3EYneM",
        "colab_type": "code",
        "colab": {}
      },
      "source": [
        ""
      ],
      "execution_count": 0,
      "outputs": []
    }
  ]
}